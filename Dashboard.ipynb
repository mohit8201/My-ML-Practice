{
 "cells": [
  {
   "cell_type": "code",
   "execution_count": 1,
   "metadata": {},
   "outputs": [],
   "source": [
    "import pandas as pd\n",
    "from matplotlib import pyplot as plt\n",
    "from matplotlib import gridspec\n",
    "import numpy as np"
   ]
  },
  {
   "cell_type": "code",
   "execution_count": 2,
   "metadata": {},
   "outputs": [],
   "source": [
    "data=pd.read_html('https://github.com/yashbhutoria/PCE-CS-III-ML-Club/blob/master/README.md')"
   ]
  },
  {
   "cell_type": "code",
   "execution_count": 30,
   "metadata": {},
   "outputs": [],
   "source": [
    "df2=pd.read_csv('https://docs.google.com/spreadsheets/d/12ctiyShx00Chea0AZ0C9Z1wrKFSunZWUKT6gZmnHdaw/export?format=csv&id=12ctiyShx00Chea0AZ0C9Z1wrKFSunZWUKT6gZmnHdaw&gid=1027535130')"
   ]
  },
  {
   "cell_type": "code",
   "execution_count": 19,
   "metadata": {},
   "outputs": [],
   "source": [
    "df1=pd.DataFrame(data[0])\n",
    "df1=df1.append(data[1])"
   ]
  },
  {
   "cell_type": "code",
   "execution_count": 20,
   "metadata": {},
   "outputs": [
    {
     "data": {
      "text/html": [
       "<div>\n",
       "<style scoped>\n",
       "    .dataframe tbody tr th:only-of-type {\n",
       "        vertical-align: middle;\n",
       "    }\n",
       "\n",
       "    .dataframe tbody tr th {\n",
       "        vertical-align: top;\n",
       "    }\n",
       "\n",
       "    .dataframe thead th {\n",
       "        text-align: right;\n",
       "    }\n",
       "</style>\n",
       "<table border=\"1\" class=\"dataframe\">\n",
       "  <thead>\n",
       "    <tr style=\"text-align: right;\">\n",
       "      <th></th>\n",
       "      <th>S.No.</th>\n",
       "      <th>Stars ⭐️</th>\n",
       "      <th>Registration No.</th>\n",
       "      <th>Name</th>\n",
       "      <th>Git Repo Link</th>\n",
       "    </tr>\n",
       "  </thead>\n",
       "  <tbody>\n",
       "    <tr>\n",
       "      <th>0</th>\n",
       "      <td>1</td>\n",
       "      <td>6.0</td>\n",
       "      <td>PCE17CS018</td>\n",
       "      <td>Alfaij Mansuri</td>\n",
       "      <td>https://github.com/alfaijmansuri/MyMLpractice</td>\n",
       "    </tr>\n",
       "    <tr>\n",
       "      <th>23</th>\n",
       "      <td>24</td>\n",
       "      <td>3.0</td>\n",
       "      <td>PCE16CE104</td>\n",
       "      <td>Suraj Kumar</td>\n",
       "      <td>https://github.com/srj789/My-Ml-Practice</td>\n",
       "    </tr>\n",
       "    <tr>\n",
       "      <th>13</th>\n",
       "      <td>14</td>\n",
       "      <td>2.0</td>\n",
       "      <td>PCE16CE068</td>\n",
       "      <td>Mohit Saini</td>\n",
       "      <td>https://github.com/mohit8201/My-ML-Practice</td>\n",
       "    </tr>\n",
       "    <tr>\n",
       "      <th>24</th>\n",
       "      <td>25</td>\n",
       "      <td>5.0</td>\n",
       "      <td>PCE16CE106</td>\n",
       "      <td>Swapnil Singh</td>\n",
       "      <td>https://github.com/swapnil2306/my_ML_practice</td>\n",
       "    </tr>\n",
       "    <tr>\n",
       "      <th>7</th>\n",
       "      <td>8</td>\n",
       "      <td>1.0</td>\n",
       "      <td>PCE16CE039</td>\n",
       "      <td>Eakta Sharma</td>\n",
       "      <td>https://github.com/ekta-sharma19/MY_ML-Practice</td>\n",
       "    </tr>\n",
       "  </tbody>\n",
       "</table>\n",
       "</div>"
      ],
      "text/plain": [
       "    S.No.  Stars ⭐️ Registration No.            Name  \\\n",
       "0       1       6.0       PCE17CS018  Alfaij Mansuri   \n",
       "23     24       3.0       PCE16CE104     Suraj Kumar   \n",
       "13     14       2.0       PCE16CE068     Mohit Saini   \n",
       "24     25       5.0       PCE16CE106   Swapnil Singh   \n",
       "7       8       1.0       PCE16CE039    Eakta Sharma   \n",
       "\n",
       "                                      Git Repo Link  \n",
       "0     https://github.com/alfaijmansuri/MyMLpractice  \n",
       "23         https://github.com/srj789/My-Ml-Practice  \n",
       "13      https://github.com/mohit8201/My-ML-Practice  \n",
       "24    https://github.com/swapnil2306/my_ML_practice  \n",
       "7   https://github.com/ekta-sharma19/MY_ML-Practice  "
      ]
     },
     "execution_count": 20,
     "metadata": {},
     "output_type": "execute_result"
    }
   ],
   "source": [
    "df1.sample(5)"
   ]
  },
  {
   "cell_type": "code",
   "execution_count": 31,
   "metadata": {},
   "outputs": [
    {
     "data": {
      "text/plain": [
       "pandas.core.frame.DataFrame"
      ]
     },
     "execution_count": 31,
     "metadata": {},
     "output_type": "execute_result"
    }
   ],
   "source": [
    "type(df2)"
   ]
  },
  {
   "cell_type": "code",
   "execution_count": 32,
   "metadata": {},
   "outputs": [],
   "source": [
    "df2.loc[df2['Assignment Number'] == 123456 , 'Assignment Number'] = 1"
   ]
  },
  {
   "cell_type": "code",
   "execution_count": 33,
   "metadata": {},
   "outputs": [],
   "source": [
    "df2.drop(df2[df2.Timestamp == '1/18/2019 1:09:40'].index, inplace=True)"
   ]
  },
  {
   "cell_type": "code",
   "execution_count": 34,
   "metadata": {},
   "outputs": [],
   "source": [
    "df2.drop(df2[df2.Timestamp == '1/11/2019 14:39:33'].index, inplace=True)"
   ]
  },
  {
   "cell_type": "code",
   "execution_count": 39,
   "metadata": {},
   "outputs": [],
   "source": [
    "df2['Registration Number']=df2['Registration Number'].str.upper()"
   ]
  },
  {
   "cell_type": "code",
   "execution_count": 40,
   "metadata": {},
   "outputs": [
    {
     "data": {
      "text/plain": [
       "pandas.core.frame.DataFrame"
      ]
     },
     "execution_count": 40,
     "metadata": {},
     "output_type": "execute_result"
    }
   ],
   "source": [
    "type(df2)"
   ]
  },
  {
   "cell_type": "code",
   "execution_count": 41,
   "metadata": {},
   "outputs": [
    {
     "data": {
      "text/html": [
       "<div>\n",
       "<style scoped>\n",
       "    .dataframe tbody tr th:only-of-type {\n",
       "        vertical-align: middle;\n",
       "    }\n",
       "\n",
       "    .dataframe tbody tr th {\n",
       "        vertical-align: top;\n",
       "    }\n",
       "\n",
       "    .dataframe thead th {\n",
       "        text-align: right;\n",
       "    }\n",
       "</style>\n",
       "<table border=\"1\" class=\"dataframe\">\n",
       "  <thead>\n",
       "    <tr style=\"text-align: right;\">\n",
       "      <th></th>\n",
       "      <th>Timestamp</th>\n",
       "      <th>Email Address</th>\n",
       "      <th>Registration Number</th>\n",
       "      <th>Assignment Number</th>\n",
       "    </tr>\n",
       "  </thead>\n",
       "  <tbody>\n",
       "    <tr>\n",
       "      <th>8</th>\n",
       "      <td>06-01-2019 21:06:40</td>\n",
       "      <td>sakshiagarwal6244@gmail.com</td>\n",
       "      <td>PCE16CE088</td>\n",
       "      <td>2</td>\n",
       "    </tr>\n",
       "    <tr>\n",
       "      <th>14</th>\n",
       "      <td>06-01-2019 21:48:41</td>\n",
       "      <td>2016pceceayush023@poornima.org</td>\n",
       "      <td>PCE16CE023</td>\n",
       "      <td>2</td>\n",
       "    </tr>\n",
       "    <tr>\n",
       "      <th>98</th>\n",
       "      <td>1/12/2019 13:08:21</td>\n",
       "      <td>sakshiagarwal6244@gmail.com</td>\n",
       "      <td>PCE16CE088</td>\n",
       "      <td>5</td>\n",
       "    </tr>\n",
       "    <tr>\n",
       "      <th>123</th>\n",
       "      <td>1/16/2019 23:52:09</td>\n",
       "      <td>2016pcecemahima061@poornima.org</td>\n",
       "      <td>PCE16CE061</td>\n",
       "      <td>4</td>\n",
       "    </tr>\n",
       "    <tr>\n",
       "      <th>46</th>\n",
       "      <td>07-01-2019 23:58:12</td>\n",
       "      <td>2016pcecepiyush075@poornima.org</td>\n",
       "      <td>PCE16CE075</td>\n",
       "      <td>3</td>\n",
       "    </tr>\n",
       "  </tbody>\n",
       "</table>\n",
       "</div>"
      ],
      "text/plain": [
       "               Timestamp                    Email Address Registration Number  \\\n",
       "8    06-01-2019 21:06:40      sakshiagarwal6244@gmail.com          PCE16CE088   \n",
       "14   06-01-2019 21:48:41   2016pceceayush023@poornima.org          PCE16CE023   \n",
       "98    1/12/2019 13:08:21      sakshiagarwal6244@gmail.com          PCE16CE088   \n",
       "123   1/16/2019 23:52:09  2016pcecemahima061@poornima.org          PCE16CE061   \n",
       "46   07-01-2019 23:58:12  2016pcecepiyush075@poornima.org          PCE16CE075   \n",
       "\n",
       "     Assignment Number  \n",
       "8                    2  \n",
       "14                   2  \n",
       "98                   5  \n",
       "123                  4  \n",
       "46                   3  "
      ]
     },
     "execution_count": 41,
     "metadata": {},
     "output_type": "execute_result"
    }
   ],
   "source": [
    "df2.sample(5)"
   ]
  },
  {
   "cell_type": "code",
   "execution_count": null,
   "metadata": {},
   "outputs": [],
   "source": []
  },
  {
   "cell_type": "code",
   "execution_count": 43,
   "metadata": {},
   "outputs": [],
   "source": [
    "df2=df2.groupby('Registration Number')[['Assignment Number']].max()"
   ]
  },
  {
   "cell_type": "code",
   "execution_count": 44,
   "metadata": {},
   "outputs": [],
   "source": [
    "df=pd.merge(df1,df2,how='inner',left_on='Registration No.',right_on='Registration Number')"
   ]
  },
  {
   "cell_type": "code",
   "execution_count": 45,
   "metadata": {},
   "outputs": [
    {
     "data": {
      "text/html": [
       "<div>\n",
       "<style scoped>\n",
       "    .dataframe tbody tr th:only-of-type {\n",
       "        vertical-align: middle;\n",
       "    }\n",
       "\n",
       "    .dataframe tbody tr th {\n",
       "        vertical-align: top;\n",
       "    }\n",
       "\n",
       "    .dataframe thead th {\n",
       "        text-align: right;\n",
       "    }\n",
       "</style>\n",
       "<table border=\"1\" class=\"dataframe\">\n",
       "  <thead>\n",
       "    <tr style=\"text-align: right;\">\n",
       "      <th></th>\n",
       "      <th>S.No.</th>\n",
       "      <th>Stars ⭐️</th>\n",
       "      <th>Registration No.</th>\n",
       "      <th>Name</th>\n",
       "      <th>Git Repo Link</th>\n",
       "      <th>Assignment Number</th>\n",
       "    </tr>\n",
       "  </thead>\n",
       "  <tbody>\n",
       "    <tr>\n",
       "      <th>23</th>\n",
       "      <td>1</td>\n",
       "      <td>6.0</td>\n",
       "      <td>PCE17CS018</td>\n",
       "      <td>Alfaij Mansuri</td>\n",
       "      <td>https://github.com/alfaijmansuri/MyMLpractice</td>\n",
       "      <td>3</td>\n",
       "    </tr>\n",
       "    <tr>\n",
       "      <th>4</th>\n",
       "      <td>6</td>\n",
       "      <td>NaN</td>\n",
       "      <td>PCE16CE034</td>\n",
       "      <td>Diksha Bothra</td>\n",
       "      <td>https://github.com/dikshabothra/My-ML-Practice</td>\n",
       "      <td>4</td>\n",
       "    </tr>\n",
       "    <tr>\n",
       "      <th>8</th>\n",
       "      <td>10</td>\n",
       "      <td>NaN</td>\n",
       "      <td>PCE16CE052</td>\n",
       "      <td>Jaya Sharma</td>\n",
       "      <td>https://github.com/10-jaya/my-ML-project</td>\n",
       "      <td>6</td>\n",
       "    </tr>\n",
       "    <tr>\n",
       "      <th>11</th>\n",
       "      <td>14</td>\n",
       "      <td>2.0</td>\n",
       "      <td>PCE16CE068</td>\n",
       "      <td>Mohit Saini</td>\n",
       "      <td>https://github.com/mohit8201/My-ML-Practice</td>\n",
       "      <td>6</td>\n",
       "    </tr>\n",
       "    <tr>\n",
       "      <th>16</th>\n",
       "      <td>19</td>\n",
       "      <td>NaN</td>\n",
       "      <td>PCE16CE088</td>\n",
       "      <td>Sakshi Agarwal</td>\n",
       "      <td>https://github.com/Sakshi-Agarwal/My-ML-Practice</td>\n",
       "      <td>6</td>\n",
       "    </tr>\n",
       "  </tbody>\n",
       "</table>\n",
       "</div>"
      ],
      "text/plain": [
       "    S.No.  Stars ⭐️ Registration No.            Name  \\\n",
       "23      1       6.0       PCE17CS018  Alfaij Mansuri   \n",
       "4       6       NaN       PCE16CE034   Diksha Bothra   \n",
       "8      10       NaN       PCE16CE052     Jaya Sharma   \n",
       "11     14       2.0       PCE16CE068     Mohit Saini   \n",
       "16     19       NaN       PCE16CE088  Sakshi Agarwal   \n",
       "\n",
       "                                       Git Repo Link  Assignment Number  \n",
       "23     https://github.com/alfaijmansuri/MyMLpractice                  3  \n",
       "4     https://github.com/dikshabothra/My-ML-Practice                  4  \n",
       "8           https://github.com/10-jaya/my-ML-project                  6  \n",
       "11       https://github.com/mohit8201/My-ML-Practice                  6  \n",
       "16  https://github.com/Sakshi-Agarwal/My-ML-Practice                  6  "
      ]
     },
     "execution_count": 45,
     "metadata": {},
     "output_type": "execute_result"
    }
   ],
   "source": [
    "df.sample(5)"
   ]
  },
  {
   "cell_type": "code",
   "execution_count": 46,
   "metadata": {},
   "outputs": [],
   "source": [
    "df=df.drop(columns=['Registration No.','Git Repo Link'])"
   ]
  },
  {
   "cell_type": "code",
   "execution_count": 47,
   "metadata": {
    "scrolled": true
   },
   "outputs": [
    {
     "data": {
      "text/html": [
       "<div>\n",
       "<style scoped>\n",
       "    .dataframe tbody tr th:only-of-type {\n",
       "        vertical-align: middle;\n",
       "    }\n",
       "\n",
       "    .dataframe tbody tr th {\n",
       "        vertical-align: top;\n",
       "    }\n",
       "\n",
       "    .dataframe thead th {\n",
       "        text-align: right;\n",
       "    }\n",
       "</style>\n",
       "<table border=\"1\" class=\"dataframe\">\n",
       "  <thead>\n",
       "    <tr style=\"text-align: right;\">\n",
       "      <th></th>\n",
       "      <th>S.No.</th>\n",
       "      <th>Stars ⭐️</th>\n",
       "      <th>Name</th>\n",
       "      <th>Assignment Number</th>\n",
       "    </tr>\n",
       "  </thead>\n",
       "  <tbody>\n",
       "    <tr>\n",
       "      <th>15</th>\n",
       "      <td>18</td>\n",
       "      <td>NaN</td>\n",
       "      <td>Sahil Chopra</td>\n",
       "      <td>6</td>\n",
       "    </tr>\n",
       "    <tr>\n",
       "      <th>0</th>\n",
       "      <td>1</td>\n",
       "      <td>NaN</td>\n",
       "      <td>Abhishek Sharma</td>\n",
       "      <td>3</td>\n",
       "    </tr>\n",
       "    <tr>\n",
       "      <th>1</th>\n",
       "      <td>2</td>\n",
       "      <td>6.0</td>\n",
       "      <td>Aditya Rajora</td>\n",
       "      <td>6</td>\n",
       "    </tr>\n",
       "    <tr>\n",
       "      <th>22</th>\n",
       "      <td>25</td>\n",
       "      <td>5.0</td>\n",
       "      <td>Swapnil Singh</td>\n",
       "      <td>6</td>\n",
       "    </tr>\n",
       "    <tr>\n",
       "      <th>3</th>\n",
       "      <td>4</td>\n",
       "      <td>NaN</td>\n",
       "      <td>Chahat Jain</td>\n",
       "      <td>3</td>\n",
       "    </tr>\n",
       "  </tbody>\n",
       "</table>\n",
       "</div>"
      ],
      "text/plain": [
       "    S.No.  Stars ⭐️             Name  Assignment Number\n",
       "15     18       NaN     Sahil Chopra                  6\n",
       "0       1       NaN  Abhishek Sharma                  3\n",
       "1       2       6.0    Aditya Rajora                  6\n",
       "22     25       5.0    Swapnil Singh                  6\n",
       "3       4       NaN      Chahat Jain                  3"
      ]
     },
     "execution_count": 47,
     "metadata": {},
     "output_type": "execute_result"
    }
   ],
   "source": [
    "df.sample(5)"
   ]
  },
  {
   "cell_type": "code",
   "execution_count": 48,
   "metadata": {
    "scrolled": true
   },
   "outputs": [
    {
     "data": {
      "text/html": [
       "<div>\n",
       "<style scoped>\n",
       "    .dataframe tbody tr th:only-of-type {\n",
       "        vertical-align: middle;\n",
       "    }\n",
       "\n",
       "    .dataframe tbody tr th {\n",
       "        vertical-align: top;\n",
       "    }\n",
       "\n",
       "    .dataframe thead th {\n",
       "        text-align: right;\n",
       "    }\n",
       "</style>\n",
       "<table border=\"1\" class=\"dataframe\">\n",
       "  <thead>\n",
       "    <tr style=\"text-align: right;\">\n",
       "      <th></th>\n",
       "      <th>S.No.</th>\n",
       "      <th>Stars ⭐️</th>\n",
       "      <th>Name</th>\n",
       "      <th>Assignment Number</th>\n",
       "    </tr>\n",
       "  </thead>\n",
       "  <tbody>\n",
       "    <tr>\n",
       "      <th>12</th>\n",
       "      <td>15</td>\n",
       "      <td>4.0</td>\n",
       "      <td>Piyush Vaishya</td>\n",
       "      <td>6</td>\n",
       "    </tr>\n",
       "    <tr>\n",
       "      <th>15</th>\n",
       "      <td>18</td>\n",
       "      <td>NaN</td>\n",
       "      <td>Sahil Chopra</td>\n",
       "      <td>6</td>\n",
       "    </tr>\n",
       "    <tr>\n",
       "      <th>2</th>\n",
       "      <td>3</td>\n",
       "      <td>1.0</td>\n",
       "      <td>Ayush Kumar</td>\n",
       "      <td>6</td>\n",
       "    </tr>\n",
       "    <tr>\n",
       "      <th>22</th>\n",
       "      <td>25</td>\n",
       "      <td>5.0</td>\n",
       "      <td>Swapnil Singh</td>\n",
       "      <td>6</td>\n",
       "    </tr>\n",
       "    <tr>\n",
       "      <th>21</th>\n",
       "      <td>24</td>\n",
       "      <td>3.0</td>\n",
       "      <td>Suraj Kumar</td>\n",
       "      <td>6</td>\n",
       "    </tr>\n",
       "    <tr>\n",
       "      <th>6</th>\n",
       "      <td>8</td>\n",
       "      <td>1.0</td>\n",
       "      <td>Eakta Sharma</td>\n",
       "      <td>6</td>\n",
       "    </tr>\n",
       "    <tr>\n",
       "      <th>7</th>\n",
       "      <td>9</td>\n",
       "      <td>NaN</td>\n",
       "      <td>Eshan Talwadiya</td>\n",
       "      <td>6</td>\n",
       "    </tr>\n",
       "    <tr>\n",
       "      <th>8</th>\n",
       "      <td>10</td>\n",
       "      <td>NaN</td>\n",
       "      <td>Jaya Sharma</td>\n",
       "      <td>6</td>\n",
       "    </tr>\n",
       "    <tr>\n",
       "      <th>19</th>\n",
       "      <td>22</td>\n",
       "      <td>7.0</td>\n",
       "      <td>Shruti Ganeriwal</td>\n",
       "      <td>6</td>\n",
       "    </tr>\n",
       "    <tr>\n",
       "      <th>16</th>\n",
       "      <td>19</td>\n",
       "      <td>NaN</td>\n",
       "      <td>Sakshi Agarwal</td>\n",
       "      <td>6</td>\n",
       "    </tr>\n",
       "  </tbody>\n",
       "</table>\n",
       "</div>"
      ],
      "text/plain": [
       "    S.No.  Stars ⭐️              Name  Assignment Number\n",
       "12     15       4.0    Piyush Vaishya                  6\n",
       "15     18       NaN      Sahil Chopra                  6\n",
       "2       3       1.0       Ayush Kumar                  6\n",
       "22     25       5.0     Swapnil Singh                  6\n",
       "21     24       3.0       Suraj Kumar                  6\n",
       "6       8       1.0      Eakta Sharma                  6\n",
       "7       9       NaN   Eshan Talwadiya                  6\n",
       "8      10       NaN       Jaya Sharma                  6\n",
       "19     22       7.0  Shruti Ganeriwal                  6\n",
       "16     19       NaN    Sakshi Agarwal                  6"
      ]
     },
     "execution_count": 48,
     "metadata": {},
     "output_type": "execute_result"
    }
   ],
   "source": [
    "df= df.sort_values(by=['Assignment Number'], ascending=False)\n",
    "df.head(10)"
   ]
  },
  {
   "cell_type": "code",
   "execution_count": 49,
   "metadata": {
    "scrolled": true
   },
   "outputs": [
    {
     "data": {
      "text/html": [
       "<div>\n",
       "<style scoped>\n",
       "    .dataframe tbody tr th:only-of-type {\n",
       "        vertical-align: middle;\n",
       "    }\n",
       "\n",
       "    .dataframe tbody tr th {\n",
       "        vertical-align: top;\n",
       "    }\n",
       "\n",
       "    .dataframe thead th {\n",
       "        text-align: right;\n",
       "    }\n",
       "</style>\n",
       "<table border=\"1\" class=\"dataframe\">\n",
       "  <thead>\n",
       "    <tr style=\"text-align: right;\">\n",
       "      <th></th>\n",
       "      <th>index</th>\n",
       "      <th>S.No.</th>\n",
       "      <th>Stars ⭐️</th>\n",
       "      <th>Name</th>\n",
       "      <th>Assignment Number</th>\n",
       "    </tr>\n",
       "  </thead>\n",
       "  <tbody>\n",
       "    <tr>\n",
       "      <th>0</th>\n",
       "      <td>2</td>\n",
       "      <td>3</td>\n",
       "      <td>1.0</td>\n",
       "      <td>Ayush Kumar</td>\n",
       "      <td>6</td>\n",
       "    </tr>\n",
       "    <tr>\n",
       "      <th>1</th>\n",
       "      <td>6</td>\n",
       "      <td>8</td>\n",
       "      <td>1.0</td>\n",
       "      <td>Eakta Sharma</td>\n",
       "      <td>6</td>\n",
       "    </tr>\n",
       "    <tr>\n",
       "      <th>2</th>\n",
       "      <td>18</td>\n",
       "      <td>21</td>\n",
       "      <td>1.0</td>\n",
       "      <td>Shivansh Mathur</td>\n",
       "      <td>4</td>\n",
       "    </tr>\n",
       "    <tr>\n",
       "      <th>3</th>\n",
       "      <td>14</td>\n",
       "      <td>17</td>\n",
       "      <td>1.0</td>\n",
       "      <td>Rishina Dargar</td>\n",
       "      <td>3</td>\n",
       "    </tr>\n",
       "    <tr>\n",
       "      <th>4</th>\n",
       "      <td>17</td>\n",
       "      <td>20</td>\n",
       "      <td>1.0</td>\n",
       "      <td>Sanjoli Jain</td>\n",
       "      <td>2</td>\n",
       "    </tr>\n",
       "    <tr>\n",
       "      <th>5</th>\n",
       "      <td>11</td>\n",
       "      <td>14</td>\n",
       "      <td>2.0</td>\n",
       "      <td>Mohit Saini</td>\n",
       "      <td>6</td>\n",
       "    </tr>\n",
       "    <tr>\n",
       "      <th>6</th>\n",
       "      <td>21</td>\n",
       "      <td>24</td>\n",
       "      <td>3.0</td>\n",
       "      <td>Suraj Kumar</td>\n",
       "      <td>6</td>\n",
       "    </tr>\n",
       "    <tr>\n",
       "      <th>7</th>\n",
       "      <td>12</td>\n",
       "      <td>15</td>\n",
       "      <td>4.0</td>\n",
       "      <td>Piyush Vaishya</td>\n",
       "      <td>6</td>\n",
       "    </tr>\n",
       "    <tr>\n",
       "      <th>8</th>\n",
       "      <td>22</td>\n",
       "      <td>25</td>\n",
       "      <td>5.0</td>\n",
       "      <td>Swapnil Singh</td>\n",
       "      <td>6</td>\n",
       "    </tr>\n",
       "    <tr>\n",
       "      <th>9</th>\n",
       "      <td>1</td>\n",
       "      <td>2</td>\n",
       "      <td>6.0</td>\n",
       "      <td>Aditya Rajora</td>\n",
       "      <td>6</td>\n",
       "    </tr>\n",
       "    <tr>\n",
       "      <th>10</th>\n",
       "      <td>23</td>\n",
       "      <td>1</td>\n",
       "      <td>6.0</td>\n",
       "      <td>Alfaij Mansuri</td>\n",
       "      <td>3</td>\n",
       "    </tr>\n",
       "    <tr>\n",
       "      <th>11</th>\n",
       "      <td>19</td>\n",
       "      <td>22</td>\n",
       "      <td>7.0</td>\n",
       "      <td>Shruti Ganeriwal</td>\n",
       "      <td>6</td>\n",
       "    </tr>\n",
       "    <tr>\n",
       "      <th>12</th>\n",
       "      <td>24</td>\n",
       "      <td>2</td>\n",
       "      <td>9.0</td>\n",
       "      <td>Kuldeep Tailor</td>\n",
       "      <td>5</td>\n",
       "    </tr>\n",
       "  </tbody>\n",
       "</table>\n",
       "</div>"
      ],
      "text/plain": [
       "    index  S.No.  Stars ⭐️              Name  Assignment Number\n",
       "0       2      3       1.0       Ayush Kumar                  6\n",
       "1       6      8       1.0      Eakta Sharma                  6\n",
       "2      18     21       1.0   Shivansh Mathur                  4\n",
       "3      14     17       1.0    Rishina Dargar                  3\n",
       "4      17     20       1.0      Sanjoli Jain                  2\n",
       "5      11     14       2.0       Mohit Saini                  6\n",
       "6      21     24       3.0       Suraj Kumar                  6\n",
       "7      12     15       4.0    Piyush Vaishya                  6\n",
       "8      22     25       5.0     Swapnil Singh                  6\n",
       "9       1      2       6.0     Aditya Rajora                  6\n",
       "10     23      1       6.0    Alfaij Mansuri                  3\n",
       "11     19     22       7.0  Shruti Ganeriwal                  6\n",
       "12     24      2       9.0    Kuldeep Tailor                  5"
      ]
     },
     "execution_count": 49,
     "metadata": {},
     "output_type": "execute_result"
    }
   ],
   "source": [
    "stars = df.loc[df['Stars ⭐️'] >= 1.0 ].sort_values('Stars ⭐️').reset_index()\n",
    "stars"
   ]
  },
  {
   "cell_type": "code",
   "execution_count": 50,
   "metadata": {
    "scrolled": true
   },
   "outputs": [
    {
     "data": {
      "text/plain": [
       "['Ayush Kumar',\n",
       " 'Eakta Sharma',\n",
       " 'Shivansh Mathur',\n",
       " 'Rishina Dargar',\n",
       " 'Sanjoli Jain',\n",
       " 'Mohit Saini',\n",
       " 'Suraj Kumar',\n",
       " 'Piyush Vaishya',\n",
       " 'Swapnil Singh',\n",
       " 'Aditya Rajora',\n",
       " 'Alfaij Mansuri',\n",
       " 'Shruti Ganeriwal',\n",
       " 'Kuldeep Tailor']"
      ]
     },
     "execution_count": 50,
     "metadata": {},
     "output_type": "execute_result"
    }
   ],
   "source": [
    "length = list(stars[\"Name\"])\n",
    "length"
   ]
  },
  {
   "cell_type": "code",
   "execution_count": 51,
   "metadata": {
    "scrolled": true
   },
   "outputs": [],
   "source": [
    "submitted = list(df[\"Name\"])"
   ]
  },
  {
   "cell_type": "code",
   "execution_count": 52,
   "metadata": {},
   "outputs": [],
   "source": [
    "all_members = list(df1[\"Name\"])"
   ]
  },
  {
   "cell_type": "code",
   "execution_count": 53,
   "metadata": {},
   "outputs": [
    {
     "name": "stdout",
     "output_type": "stream",
     "text": [
      "Chayan Jain\n",
      "Mohit Agarwal\n"
     ]
    }
   ],
   "source": [
    "not_submitted = [x for x in all_members if x not in submitted]\n",
    "str1 = '\\n'.join(map(str, not_submitted))\n",
    "print(str1)"
   ]
  },
  {
   "cell_type": "code",
   "execution_count": 55,
   "metadata": {
    "scrolled": false
   },
   "outputs": [
    {
     "data": {
      "image/png": "[encoded data removed]",
      "text/plain": [
       "<Figure size 1080x720 with 7 Axes>"
      ]
     },
     "metadata": {
      "needs_background": "light"
     },
     "output_type": "display_data"
    }
   ],
   "source": [
    "plt.figure(figsize=(15, 10))\n",
    "gs=gridspec.GridSpec(4,6)\n",
    "gs.update(wspace=0.0, hspace=0.0)\n",
    "\n",
    "ax1=plt.subplot(gs[0,0])\n",
    "ax1.set_facecolor('darkgrey')\n",
    "plt.xticks(())\n",
    "plt.yticks(())\n",
    "plt.text(0.5, 0.5, 'Logo\\nComing\\n  Soon', ha='center', va='center',fontsize=20, color=\"black\")\n",
    "\n",
    "ax2=plt.subplot(gs[1,0])\n",
    "ax2.set_facecolor('lightgrey')\n",
    "plt.xticks(())\n",
    "plt.yticks(())\n",
    "plt.text(0.5, 0.5, \"Members\\n\\n  {}\".format(df['Name'].count()), ha='center', va='center',fontsize=20, color=\"black\")\n",
    "\n",
    "ax3=plt.subplot(gs[2:3:4,0])\n",
    "ax3.set_facecolor('darkgrey')\n",
    "plt.xticks(())\n",
    "plt.yticks(())\n",
    "plt.text(0.5, 0.5, \"Total\\nSubmissions\\n\\n {}\".format(df['Assignment Number'].sum()), ha='center', \n",
    "         va='center',fontsize=18, color=\"black\")\n",
    "\n",
    "ax2=plt.subplot(gs[3:,:1])\n",
    "ax2.set_facecolor('lightgrey')\n",
    "plt.xticks(())\n",
    "plt.yticks(())\n",
    "plt.text(0.5, 0.5, \"Stars\\nEarned\\n\\n  {}\".format(int(df['Stars ⭐️'].sum())), ha='center', \n",
    "         va='center',fontsize=18, color=\"black\")\n",
    "\n",
    "ax4=plt.subplot(gs[:,1:2])\n",
    "plt.xticks(())\n",
    "plt.yticks(())\n",
    "ax4.set_facecolor('whitesmoke')\n",
    "\n",
    "ax6=plt.subplot(gs[:,2:4])\n",
    "ax6.set_facecolor('whitesmoke')\n",
    "plt.barh(length,stars['Stars ⭐️'],color='gold')\n",
    "plt.xticks(())\n",
    "plt.title('Star Performer')\n",
    "for i in range(len(stars['Name'])):\n",
    "    plt.text(stars['Stars ⭐️'].values[i]-0.5 ,i,int(stars['Stars ⭐️'][i]), size = 12)\n",
    "\n",
    "colors =['palevioletred','coral','sandybrown','lightgreen','yellowgreen','mediumseagreen','mediumturquoise']\n",
    "ax7=plt.subplot(gs[:,4:])\n",
    "plt.xticks(())\n",
    "plt.yticks(())\n",
    "ax7=ax7.table(cellText=df[['Name','Assignment Number']].values,colLabels=['Names','Last \\n Assignment'],\n",
    "              colWidths = [0.6,0.4],cellLoc = 'left',loc='center')\n",
    "ax7.auto_set_font_size(False)\n",
    "ax7.set_fontsize(11)\n",
    "for i in range((df['Name'].count()+1)):\n",
    "    if i==0:\n",
    "        ax7[(i,0)].set_text_props(color='w')\n",
    "        ax7[(i,1)].set_text_props(color='w')\n",
    "        ax7[(i,0)].set_facecolor(color='dimgray')\n",
    "        ax7[(i,1)].set_facecolor(color='dimgray')\n",
    "    else:\n",
    "        ax7[(i,0)].set_facecolor(color=colors[df['Assignment Number'].values[i-1]])\n",
    "        ax7[(i,1)].set_facecolor(color=colors[df['Assignment Number'].values[i-1]])\n",
    "ax7.scale(1,1.7)"
   ]
  },
  {
   "cell_type": "code",
   "execution_count": null,
   "metadata": {},
   "outputs": [],
   "source": [
    "colors =['cyan','palevioletred','lightgreen','yellowgreen','mediumseagreen','coral','slateblue']\n",
    "colors[0]"
   ]
  },
  {
   "cell_type": "code",
   "execution_count": null,
   "metadata": {},
   "outputs": [],
   "source": []
  },
  {
   "cell_type": "code",
   "execution_count": null,
   "metadata": {},
   "outputs": [],
   "source": [
    "df['Assignment Number'].values"
   ]
  },
  {
   "cell_type": "code",
   "execution_count": null,
   "metadata": {},
   "outputs": [],
   "source": []
  }
 ],
 "metadata": {
  "kernelspec": {
   "display_name": "Python 3",
   "language": "python",
   "name": "python3"
  },
  "language_info": {
   "codemirror_mode": {
    "name": "ipython",
    "version": 3
   },
   "file_extension": ".py",
   "mimetype": "text/x-python",
   "name": "python",
   "nbconvert_exporter": "python",
   "pygments_lexer": "ipython3",
   "version": "3.7.0"
  }
 },
 "nbformat": 4,
 "nbformat_minor": 2
}
