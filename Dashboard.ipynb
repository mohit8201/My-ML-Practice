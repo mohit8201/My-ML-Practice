{
 "cells": [
  {
   "cell_type": "code",
   "execution_count": 1,
   "metadata": {},
   "outputs": [],
   "source": [
    "import pandas as pd\n",
    "from matplotlib import pyplot as plt\n",
    "from matplotlib import gridspec"
   ]
  },
  {
   "cell_type": "code",
   "execution_count": 2,
   "metadata": {},
   "outputs": [],
   "source": [
    "data=pd.read_html('https://github.com/yashbhutoria/PCE-CS-III-ML-Club/blob/master/README.md')"
   ]
  },
  {
   "cell_type": "code",
   "execution_count": 3,
   "metadata": {},
   "outputs": [],
   "source": [
    "df2=pd.read_csv('https://docs.google.com/spreadsheets/d/12ctiyShx00Chea0AZ0C9Z1wrKFSunZWUKT6gZmnHdaw/export?format=csv&id=12ctiyShx00Chea0AZ0C9Z1wrKFSunZWUKT6gZmnHdaw&gid=1027535130')"
   ]
  },
  {
   "cell_type": "code",
   "execution_count": 4,
   "metadata": {},
   "outputs": [],
   "source": [
    "df1=pd.DataFrame(data[0])\n",
    "df1=df1.append(data[1])"
   ]
  },
  {
   "cell_type": "code",
   "execution_count": 5,
   "metadata": {},
   "outputs": [
    {
     "data": {
      "text/html": [
       "<div>\n",
       "<style scoped>\n",
       "    .dataframe tbody tr th:only-of-type {\n",
       "        vertical-align: middle;\n",
       "    }\n",
       "\n",
       "    .dataframe tbody tr th {\n",
       "        vertical-align: top;\n",
       "    }\n",
       "\n",
       "    .dataframe thead th {\n",
       "        text-align: right;\n",
       "    }\n",
       "</style>\n",
       "<table border=\"1\" class=\"dataframe\">\n",
       "  <thead>\n",
       "    <tr style=\"text-align: right;\">\n",
       "      <th></th>\n",
       "      <th>S.No.</th>\n",
       "      <th>Stars ⭐️</th>\n",
       "      <th>Registration No.</th>\n",
       "      <th>Name</th>\n",
       "      <th>Git Repo Link</th>\n",
       "    </tr>\n",
       "  </thead>\n",
       "  <tbody>\n",
       "    <tr>\n",
       "      <th>14</th>\n",
       "      <td>15</td>\n",
       "      <td>4.0</td>\n",
       "      <td>PCE16CE075</td>\n",
       "      <td>Piyush Vaishya</td>\n",
       "      <td>https://github.com/piyushvaishya/My-ML-Practice</td>\n",
       "    </tr>\n",
       "    <tr>\n",
       "      <th>6</th>\n",
       "      <td>7</td>\n",
       "      <td>NaN</td>\n",
       "      <td>PCE16CE036</td>\n",
       "      <td>Disti Jain</td>\n",
       "      <td>https://github.com/distijain98/mymlpractice.git</td>\n",
       "    </tr>\n",
       "    <tr>\n",
       "      <th>11</th>\n",
       "      <td>12</td>\n",
       "      <td>NaN</td>\n",
       "      <td>PCE16CE064</td>\n",
       "      <td>Megha Gupta</td>\n",
       "      <td>https://github.com/gmegha12/My-ML-practice</td>\n",
       "    </tr>\n",
       "    <tr>\n",
       "      <th>2</th>\n",
       "      <td>3</td>\n",
       "      <td>1.0</td>\n",
       "      <td>PCE16CE023</td>\n",
       "      <td>Ayush Kumar</td>\n",
       "      <td>https://github.com/Ayushkr99/My-Ml-Practice</td>\n",
       "    </tr>\n",
       "    <tr>\n",
       "      <th>22</th>\n",
       "      <td>23</td>\n",
       "      <td>NaN</td>\n",
       "      <td>PCE16CE102</td>\n",
       "      <td>Sudhanshu Jain</td>\n",
       "      <td>https://github.com/blacksag/My-ML-Practice.git</td>\n",
       "    </tr>\n",
       "  </tbody>\n",
       "</table>\n",
       "</div>"
      ],
      "text/plain": [
       "    S.No.  Stars ⭐️ Registration No.            Name  \\\n",
       "14     15       4.0       PCE16CE075  Piyush Vaishya   \n",
       "6       7       NaN       PCE16CE036      Disti Jain   \n",
       "11     12       NaN       PCE16CE064     Megha Gupta   \n",
       "2       3       1.0       PCE16CE023     Ayush Kumar   \n",
       "22     23       NaN       PCE16CE102  Sudhanshu Jain   \n",
       "\n",
       "                                      Git Repo Link  \n",
       "14  https://github.com/piyushvaishya/My-ML-Practice  \n",
       "6   https://github.com/distijain98/mymlpractice.git  \n",
       "11       https://github.com/gmegha12/My-ML-practice  \n",
       "2       https://github.com/Ayushkr99/My-Ml-Practice  \n",
       "22   https://github.com/blacksag/My-ML-Practice.git  "
      ]
     },
     "execution_count": 5,
     "metadata": {},
     "output_type": "execute_result"
    }
   ],
   "source": [
    "df1.sample(5)"
   ]
  },
  {
   "cell_type": "code",
   "execution_count": 7,
   "metadata": {},
   "outputs": [],
   "source": [
    "df2.loc[df2['Assignment Number'] == 123456 , 'Assignment Number'] = 1"
   ]
  },
  {
   "cell_type": "code",
   "execution_count": 8,
   "metadata": {},
   "outputs": [],
   "source": [
    "df2.drop(df2[df2.Timestamp == '1/18/2019 1:09:40'].index, inplace=True)"
   ]
  },
  {
   "cell_type": "code",
   "execution_count": 9,
   "metadata": {},
   "outputs": [],
   "source": [
    "df2.drop(df2[df2.Timestamp == '1/11/2019 14:39:33'].index, inplace=True)"
   ]
  },
  {
   "cell_type": "code",
   "execution_count": 10,
   "metadata": {},
   "outputs": [],
   "source": [
    "df2['Registration Number']=df2['Registration Number'].str.upper()"
   ]
  },
  {
   "cell_type": "code",
   "execution_count": 11,
   "metadata": {},
   "outputs": [
    {
     "data": {
      "text/html": [
       "<div>\n",
       "<style scoped>\n",
       "    .dataframe tbody tr th:only-of-type {\n",
       "        vertical-align: middle;\n",
       "    }\n",
       "\n",
       "    .dataframe tbody tr th {\n",
       "        vertical-align: top;\n",
       "    }\n",
       "\n",
       "    .dataframe thead th {\n",
       "        text-align: right;\n",
       "    }\n",
       "</style>\n",
       "<table border=\"1\" class=\"dataframe\">\n",
       "  <thead>\n",
       "    <tr style=\"text-align: right;\">\n",
       "      <th></th>\n",
       "      <th>Timestamp</th>\n",
       "      <th>Email Address</th>\n",
       "      <th>Registration Number</th>\n",
       "      <th>Assignment Number</th>\n",
       "    </tr>\n",
       "  </thead>\n",
       "  <tbody>\n",
       "    <tr>\n",
       "      <th>87</th>\n",
       "      <td>1/11/2019 22:27:15</td>\n",
       "      <td>2016pcecesuraj104@poornima.org</td>\n",
       "      <td>PCE16CE104</td>\n",
       "      <td>5</td>\n",
       "    </tr>\n",
       "    <tr>\n",
       "      <th>15</th>\n",
       "      <td>06-01-2019 21:55:03</td>\n",
       "      <td>mohitsaini8201@gmail.com</td>\n",
       "      <td>PCE16CE068</td>\n",
       "      <td>1</td>\n",
       "    </tr>\n",
       "    <tr>\n",
       "      <th>47</th>\n",
       "      <td>1/8/2019 18:05:52</td>\n",
       "      <td>rathoreprem96@gmail.com</td>\n",
       "      <td>PCE16CE080</td>\n",
       "      <td>3</td>\n",
       "    </tr>\n",
       "    <tr>\n",
       "      <th>59</th>\n",
       "      <td>1/9/2019 2:16:54</td>\n",
       "      <td>2016pceceabhishek129@poornima.org</td>\n",
       "      <td>PCE16CE129</td>\n",
       "      <td>2</td>\n",
       "    </tr>\n",
       "    <tr>\n",
       "      <th>57</th>\n",
       "      <td>1/9/2019 0:42:10</td>\n",
       "      <td>shivansh.mathur@gmail.com</td>\n",
       "      <td>PCE16CE092</td>\n",
       "      <td>4</td>\n",
       "    </tr>\n",
       "  </tbody>\n",
       "</table>\n",
       "</div>"
      ],
      "text/plain": [
       "              Timestamp                      Email Address  \\\n",
       "87   1/11/2019 22:27:15     2016pcecesuraj104@poornima.org   \n",
       "15  06-01-2019 21:55:03           mohitsaini8201@gmail.com   \n",
       "47    1/8/2019 18:05:52            rathoreprem96@gmail.com   \n",
       "59     1/9/2019 2:16:54  2016pceceabhishek129@poornima.org   \n",
       "57     1/9/2019 0:42:10          shivansh.mathur@gmail.com   \n",
       "\n",
       "   Registration Number  Assignment Number  \n",
       "87          PCE16CE104                  5  \n",
       "15          PCE16CE068                  1  \n",
       "47          PCE16CE080                  3  \n",
       "59          PCE16CE129                  2  \n",
       "57          PCE16CE092                  4  "
      ]
     },
     "execution_count": 11,
     "metadata": {},
     "output_type": "execute_result"
    }
   ],
   "source": [
    "df2.sample(5)"
   ]
  },
  {
   "cell_type": "code",
   "execution_count": 12,
   "metadata": {},
   "outputs": [],
   "source": [
    "df2=df2.groupby('Registration Number')[['Assignment Number']].max()"
   ]
  },
  {
   "cell_type": "code",
   "execution_count": 13,
   "metadata": {},
   "outputs": [],
   "source": [
    "df=pd.merge(df1,df2,how='inner',left_on='Registration No.',right_on='Registration Number')"
   ]
  },
  {
   "cell_type": "code",
   "execution_count": 14,
   "metadata": {},
   "outputs": [
    {
     "data": {
      "text/html": [
       "<div>\n",
       "<style scoped>\n",
       "    .dataframe tbody tr th:only-of-type {\n",
       "        vertical-align: middle;\n",
       "    }\n",
       "\n",
       "    .dataframe tbody tr th {\n",
       "        vertical-align: top;\n",
       "    }\n",
       "\n",
       "    .dataframe thead th {\n",
       "        text-align: right;\n",
       "    }\n",
       "</style>\n",
       "<table border=\"1\" class=\"dataframe\">\n",
       "  <thead>\n",
       "    <tr style=\"text-align: right;\">\n",
       "      <th></th>\n",
       "      <th>S.No.</th>\n",
       "      <th>Stars ⭐️</th>\n",
       "      <th>Registration No.</th>\n",
       "      <th>Name</th>\n",
       "      <th>Git Repo Link</th>\n",
       "      <th>Assignment Number</th>\n",
       "    </tr>\n",
       "  </thead>\n",
       "  <tbody>\n",
       "    <tr>\n",
       "      <th>22</th>\n",
       "      <td>25</td>\n",
       "      <td>5.0</td>\n",
       "      <td>PCE16CE106</td>\n",
       "      <td>Swapnil Singh</td>\n",
       "      <td>https://github.com/swapnil2306/my_ML_practice</td>\n",
       "      <td>6</td>\n",
       "    </tr>\n",
       "    <tr>\n",
       "      <th>6</th>\n",
       "      <td>8</td>\n",
       "      <td>1.0</td>\n",
       "      <td>PCE16CE039</td>\n",
       "      <td>Eakta Sharma</td>\n",
       "      <td>https://github.com/ekta-sharma19/MY_ML-Practice</td>\n",
       "      <td>6</td>\n",
       "    </tr>\n",
       "    <tr>\n",
       "      <th>16</th>\n",
       "      <td>19</td>\n",
       "      <td>NaN</td>\n",
       "      <td>PCE16CE088</td>\n",
       "      <td>Sakshi Agarwal</td>\n",
       "      <td>https://github.com/Sakshi-Agarwal/My-ML-Practice</td>\n",
       "      <td>6</td>\n",
       "    </tr>\n",
       "    <tr>\n",
       "      <th>1</th>\n",
       "      <td>2</td>\n",
       "      <td>6.0</td>\n",
       "      <td>PCE16CE006</td>\n",
       "      <td>Aditya Rajora</td>\n",
       "      <td>https://github.com/Adityarajora/MYMLPractice</td>\n",
       "      <td>6</td>\n",
       "    </tr>\n",
       "    <tr>\n",
       "      <th>2</th>\n",
       "      <td>3</td>\n",
       "      <td>1.0</td>\n",
       "      <td>PCE16CE023</td>\n",
       "      <td>Ayush Kumar</td>\n",
       "      <td>https://github.com/Ayushkr99/My-Ml-Practice</td>\n",
       "      <td>6</td>\n",
       "    </tr>\n",
       "  </tbody>\n",
       "</table>\n",
       "</div>"
      ],
      "text/plain": [
       "    S.No.  Stars ⭐️ Registration No.            Name  \\\n",
       "22     25       5.0       PCE16CE106   Swapnil Singh   \n",
       "6       8       1.0       PCE16CE039    Eakta Sharma   \n",
       "16     19       NaN       PCE16CE088  Sakshi Agarwal   \n",
       "1       2       6.0       PCE16CE006   Aditya Rajora   \n",
       "2       3       1.0       PCE16CE023     Ayush Kumar   \n",
       "\n",
       "                                       Git Repo Link  Assignment Number  \n",
       "22     https://github.com/swapnil2306/my_ML_practice                  6  \n",
       "6    https://github.com/ekta-sharma19/MY_ML-Practice                  6  \n",
       "16  https://github.com/Sakshi-Agarwal/My-ML-Practice                  6  \n",
       "1       https://github.com/Adityarajora/MYMLPractice                  6  \n",
       "2        https://github.com/Ayushkr99/My-Ml-Practice                  6  "
      ]
     },
     "execution_count": 14,
     "metadata": {},
     "output_type": "execute_result"
    }
   ],
   "source": [
    "df.sample(5)"
   ]
  },
  {
   "cell_type": "code",
   "execution_count": 15,
   "metadata": {},
   "outputs": [],
   "source": [
    "df=df.drop(columns=['Registration No.','Git Repo Link'])"
   ]
  },
  {
   "cell_type": "code",
   "execution_count": 16,
   "metadata": {
    "scrolled": true
   },
   "outputs": [
    {
     "data": {
      "text/html": [
       "<div>\n",
       "<style scoped>\n",
       "    .dataframe tbody tr th:only-of-type {\n",
       "        vertical-align: middle;\n",
       "    }\n",
       "\n",
       "    .dataframe tbody tr th {\n",
       "        vertical-align: top;\n",
       "    }\n",
       "\n",
       "    .dataframe thead th {\n",
       "        text-align: right;\n",
       "    }\n",
       "</style>\n",
       "<table border=\"1\" class=\"dataframe\">\n",
       "  <thead>\n",
       "    <tr style=\"text-align: right;\">\n",
       "      <th></th>\n",
       "      <th>S.No.</th>\n",
       "      <th>Stars ⭐️</th>\n",
       "      <th>Name</th>\n",
       "      <th>Assignment Number</th>\n",
       "    </tr>\n",
       "  </thead>\n",
       "  <tbody>\n",
       "    <tr>\n",
       "      <th>12</th>\n",
       "      <td>15</td>\n",
       "      <td>4.0</td>\n",
       "      <td>Piyush Vaishya</td>\n",
       "      <td>6</td>\n",
       "    </tr>\n",
       "    <tr>\n",
       "      <th>0</th>\n",
       "      <td>1</td>\n",
       "      <td>NaN</td>\n",
       "      <td>Abhishek Sharma</td>\n",
       "      <td>3</td>\n",
       "    </tr>\n",
       "    <tr>\n",
       "      <th>8</th>\n",
       "      <td>10</td>\n",
       "      <td>NaN</td>\n",
       "      <td>Jaya Sharma</td>\n",
       "      <td>6</td>\n",
       "    </tr>\n",
       "    <tr>\n",
       "      <th>13</th>\n",
       "      <td>16</td>\n",
       "      <td>NaN</td>\n",
       "      <td>Prem Singh Rathore</td>\n",
       "      <td>6</td>\n",
       "    </tr>\n",
       "    <tr>\n",
       "      <th>9</th>\n",
       "      <td>11</td>\n",
       "      <td>NaN</td>\n",
       "      <td>Mahima Sukhlecha</td>\n",
       "      <td>5</td>\n",
       "    </tr>\n",
       "  </tbody>\n",
       "</table>\n",
       "</div>"
      ],
      "text/plain": [
       "    S.No.  Stars ⭐️                Name  Assignment Number\n",
       "12     15       4.0      Piyush Vaishya                  6\n",
       "0       1       NaN     Abhishek Sharma                  3\n",
       "8      10       NaN         Jaya Sharma                  6\n",
       "13     16       NaN  Prem Singh Rathore                  6\n",
       "9      11       NaN    Mahima Sukhlecha                  5"
      ]
     },
     "execution_count": 16,
     "metadata": {},
     "output_type": "execute_result"
    }
   ],
   "source": [
    "df.sample(5)"
   ]
  },
  {
   "cell_type": "code",
   "execution_count": 18,
   "metadata": {
    "scrolled": true
   },
   "outputs": [
    {
     "data": {
      "text/html": [
       "<div>\n",
       "<style scoped>\n",
       "    .dataframe tbody tr th:only-of-type {\n",
       "        vertical-align: middle;\n",
       "    }\n",
       "\n",
       "    .dataframe tbody tr th {\n",
       "        vertical-align: top;\n",
       "    }\n",
       "\n",
       "    .dataframe thead th {\n",
       "        text-align: right;\n",
       "    }\n",
       "</style>\n",
       "<table border=\"1\" class=\"dataframe\">\n",
       "  <thead>\n",
       "    <tr style=\"text-align: right;\">\n",
       "      <th></th>\n",
       "      <th>S.No.</th>\n",
       "      <th>Stars ⭐️</th>\n",
       "      <th>Name</th>\n",
       "      <th>Assignment Number</th>\n",
       "    </tr>\n",
       "  </thead>\n",
       "  <tbody>\n",
       "    <tr>\n",
       "      <th>21</th>\n",
       "      <td>24</td>\n",
       "      <td>3.0</td>\n",
       "      <td>Suraj Kumar</td>\n",
       "      <td>6</td>\n",
       "    </tr>\n",
       "    <tr>\n",
       "      <th>2</th>\n",
       "      <td>3</td>\n",
       "      <td>1.0</td>\n",
       "      <td>Ayush Kumar</td>\n",
       "      <td>6</td>\n",
       "    </tr>\n",
       "    <tr>\n",
       "      <th>8</th>\n",
       "      <td>10</td>\n",
       "      <td>NaN</td>\n",
       "      <td>Jaya Sharma</td>\n",
       "      <td>6</td>\n",
       "    </tr>\n",
       "    <tr>\n",
       "      <th>6</th>\n",
       "      <td>8</td>\n",
       "      <td>1.0</td>\n",
       "      <td>Eakta Sharma</td>\n",
       "      <td>6</td>\n",
       "    </tr>\n",
       "    <tr>\n",
       "      <th>11</th>\n",
       "      <td>14</td>\n",
       "      <td>2.0</td>\n",
       "      <td>Mohit Saini</td>\n",
       "      <td>6</td>\n",
       "    </tr>\n",
       "  </tbody>\n",
       "</table>\n",
       "</div>"
      ],
      "text/plain": [
       "    S.No.  Stars ⭐️          Name  Assignment Number\n",
       "21     24       3.0   Suraj Kumar                  6\n",
       "2       3       1.0   Ayush Kumar                  6\n",
       "8      10       NaN   Jaya Sharma                  6\n",
       "6       8       1.0  Eakta Sharma                  6\n",
       "11     14       2.0   Mohit Saini                  6"
      ]
     },
     "execution_count": 18,
     "metadata": {},
     "output_type": "execute_result"
    }
   ],
   "source": [
    "df= df.sort_values(by=['Assignment Number'], ascending=False)\n",
    "df.sample(5)"
   ]
  },
  {
   "cell_type": "code",
   "execution_count": 19,
   "metadata": {
    "scrolled": true
   },
   "outputs": [
    {
     "data": {
      "text/html": [
       "<div>\n",
       "<style scoped>\n",
       "    .dataframe tbody tr th:only-of-type {\n",
       "        vertical-align: middle;\n",
       "    }\n",
       "\n",
       "    .dataframe tbody tr th {\n",
       "        vertical-align: top;\n",
       "    }\n",
       "\n",
       "    .dataframe thead th {\n",
       "        text-align: right;\n",
       "    }\n",
       "</style>\n",
       "<table border=\"1\" class=\"dataframe\">\n",
       "  <thead>\n",
       "    <tr style=\"text-align: right;\">\n",
       "      <th></th>\n",
       "      <th>index</th>\n",
       "      <th>S.No.</th>\n",
       "      <th>Stars ⭐️</th>\n",
       "      <th>Name</th>\n",
       "      <th>Assignment Number</th>\n",
       "    </tr>\n",
       "  </thead>\n",
       "  <tbody>\n",
       "    <tr>\n",
       "      <th>1</th>\n",
       "      <td>6</td>\n",
       "      <td>8</td>\n",
       "      <td>1.0</td>\n",
       "      <td>Eakta Sharma</td>\n",
       "      <td>6</td>\n",
       "    </tr>\n",
       "    <tr>\n",
       "      <th>4</th>\n",
       "      <td>17</td>\n",
       "      <td>20</td>\n",
       "      <td>1.0</td>\n",
       "      <td>Sanjoli Jain</td>\n",
       "      <td>2</td>\n",
       "    </tr>\n",
       "    <tr>\n",
       "      <th>6</th>\n",
       "      <td>21</td>\n",
       "      <td>24</td>\n",
       "      <td>3.0</td>\n",
       "      <td>Suraj Kumar</td>\n",
       "      <td>6</td>\n",
       "    </tr>\n",
       "  </tbody>\n",
       "</table>\n",
       "</div>"
      ],
      "text/plain": [
       "   index  S.No.  Stars ⭐️          Name  Assignment Number\n",
       "1      6      8       1.0  Eakta Sharma                  6\n",
       "4     17     20       1.0  Sanjoli Jain                  2\n",
       "6     21     24       3.0   Suraj Kumar                  6"
      ]
     },
     "execution_count": 19,
     "metadata": {},
     "output_type": "execute_result"
    }
   ],
   "source": [
    "stars = df.loc[df['Stars ⭐️'] >= 1.0 ].sort_values('Stars ⭐️').reset_index()\n",
    "stars.sample(3)"
   ]
  },
  {
   "cell_type": "code",
   "execution_count": 21,
   "metadata": {
    "scrolled": false
   },
   "outputs": [
    {
     "data": {
      "image/png": "[encoded data removed]",
      "text/plain": [
       "<Figure size 1080x720 with 7 Axes>"
      ]
     },
     "metadata": {
      "needs_background": "light"
     },
     "output_type": "display_data"
    }
   ],
   "source": [
    "plt.figure(figsize=(15, 10))\n",
    "gs=gridspec.GridSpec(4,6)\n",
    "gs.update(wspace=0.0, hspace=0.0)\n",
    "\n",
    "ax1=plt.subplot(gs[0,0])\n",
    "ax1.set_facecolor('darkgrey')\n",
    "plt.xticks(())\n",
    "plt.yticks(())\n",
    "plt.text(0.5, 0.5, 'Logo\\nComing\\n  Soon', ha='center', va='center',fontsize=20, color=\"black\")\n",
    "\n",
    "ax2=plt.subplot(gs[1,0])\n",
    "ax2.set_facecolor('lightgrey')\n",
    "plt.xticks(())\n",
    "plt.yticks(())\n",
    "plt.text(0.5, 0.5, \"Members\\n\\n  {}\".format(df['Name'].count()), ha='center', va='center',fontsize=20, color=\"black\")\n",
    "\n",
    "ax3=plt.subplot(gs[2:3:4,0])\n",
    "ax3.set_facecolor('darkgrey')\n",
    "plt.xticks(())\n",
    "plt.yticks(())\n",
    "plt.text(0.5, 0.5, \"Total\\nSubmissions\\n\\n {}\".format(df['Assignment Number'].sum()), ha='center', \n",
    "         va='center',fontsize=18, color=\"black\")\n",
    "\n",
    "ax2=plt.subplot(gs[3:,:1])\n",
    "ax2.set_facecolor('lightgrey')\n",
    "plt.xticks(())\n",
    "plt.yticks(())\n",
    "plt.text(0.5, 0.5, \"Stars\\nEarned\\n\\n  {}\".format(int(df['Stars ⭐️'].sum())), ha='center', \n",
    "         va='center',fontsize=18, color=\"black\")\n",
    "\n",
    "ax4=plt.subplot(gs[:,1:2])\n",
    "plt.xticks(())\n",
    "plt.yticks(())\n",
    "ax4.set_facecolor('whitesmoke')\n",
    "\n",
    "ax6=plt.subplot(gs[:,2:4])\n",
    "ax6.set_facecolor('whitesmoke')\n",
    "plt.barh(length,stars['Stars ⭐️'],color='gold')\n",
    "plt.xticks(())\n",
    "plt.title('Star Performer')\n",
    "for i in range(len(stars['Name'])):\n",
    "    plt.text(stars['Stars ⭐️'].values[i]-0.5 ,i,int(stars['Stars ⭐️'][i]), size = 12)\n",
    "\n",
    "colors =['palevioletred','coral','sandybrown','lightgreen','yellowgreen','mediumseagreen','mediumturquoise']\n",
    "ax7=plt.subplot(gs[:,4:])\n",
    "plt.xticks(())\n",
    "plt.yticks(())\n",
    "ax7=ax7.table(cellText=df[['Name','Assignment Number']].values,colLabels=['Names','Last \\n Assignment'],\n",
    "              colWidths = [0.6,0.4],cellLoc = 'left',loc='center')\n",
    "ax7.auto_set_font_size(False)\n",
    "ax7.set_fontsize(11)\n",
    "for i in range((df['Name'].count()+1)):\n",
    "    if i==0:\n",
    "        ax7[(i,0)].set_text_props(color='w')\n",
    "        ax7[(i,1)].set_text_props(color='w')\n",
    "        ax7[(i,0)].set_facecolor(color='dimgray')\n",
    "        ax7[(i,1)].set_facecolor(color='dimgray')\n",
    "    else:\n",
    "        ax7[(i,0)].set_facecolor(color=colors[df['Assignment Number'].values[i-1]])\n",
    "        ax7[(i,1)].set_facecolor(color=colors[df['Assignment Number'].values[i-1]])\n",
    "ax7.scale(1,1.7)"
   ]
  }
 ],
 "metadata": {
  "kernelspec": {
   "display_name": "Python 3",
   "language": "python",
   "name": "python3"
  },
  "language_info": {
   "codemirror_mode": {
    "name": "ipython",
    "version": 3
   },
   "file_extension": ".py",
   "mimetype": "text/x-python",
   "name": "python",
   "nbconvert_exporter": "python",
   "pygments_lexer": "ipython3",
   "version": "3.7.0"
  }
 },
 "nbformat": 4,
 "nbformat_minor": 2
}
